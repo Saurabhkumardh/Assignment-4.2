{
  "nbformat": 4,
  "nbformat_minor": 0,
  "metadata": {
    "colab": {
      "provenance": []
    },
    "kernelspec": {
      "name": "python3",
      "display_name": "Python 3"
    },
    "language_info": {
      "name": "python"
    }
  },
  "cells": [
    {
      "cell_type": "markdown",
      "source": [
        "Question 1"
      ],
      "metadata": {
        "id": "Blmp-TJ6_BwX"
      }
    },
    {
      "cell_type": "markdown",
      "source": [
        "In object-oriented programming (OOP), a class is a blueprint for creating objects, while an object is an instance of a class."
      ],
      "metadata": {
        "id": "jSiCnrTq_Ucg"
      }
    },
    {
      "cell_type": "code",
      "source": [
        "class atm:# class\n",
        "  pass\n",
        "a=atm()#object"
      ],
      "metadata": {
        "id": "NALwInXV_ViM"
      },
      "execution_count": null,
      "outputs": []
    },
    {
      "cell_type": "markdown",
      "source": [
        "Question 2"
      ],
      "metadata": {
        "id": "P5eClH41_hez"
      }
    },
    {
      "cell_type": "markdown",
      "source": [
        "The four pillars of object-oriented programming (OOP) are:\n",
        "1.Encapsulation\n",
        "2.Inheritance\n",
        "3.Polymorphism\n",
        "4.Abstraction"
      ],
      "metadata": {
        "id": "1a7opJ_H_uLX"
      }
    },
    {
      "cell_type": "markdown",
      "source": [
        "Question 3"
      ],
      "metadata": {
        "id": "1Nc3jJ_NAFds"
      }
    },
    {
      "cell_type": "markdown",
      "source": [
        "\n",
        "The __init__() function, also known as the constructor method, is used in Python to initialize the newly created object. It gets called automatically when a new instance of a class is created."
      ],
      "metadata": {
        "id": "kt2ZP-Q8Am-n"
      }
    },
    {
      "cell_type": "code",
      "source": [
        "class atm:\n",
        "  def __init__(self,balance,pin):\n",
        "    self.balance=balance\n",
        "    self.pin=pin\n",
        "a=atm(\"saurabh\",1000)"
      ],
      "metadata": {
        "id": "q02pvFSpArjx"
      },
      "execution_count": 1,
      "outputs": []
    },
    {
      "cell_type": "markdown",
      "source": [
        "Question 4\n",
        "self is nothing it is just a refrence variable for object"
      ],
      "metadata": {
        "id": "FUxv94IHBGsv"
      }
    },
    {
      "cell_type": "code",
      "source": [
        "class child:\n",
        "  def __init__(self,quality):\n",
        "    print(id(self))\n",
        "    self.quality=quality\n",
        "a=child(\"hardworking\")\n",
        "print(id(a))"
      ],
      "metadata": {
        "colab": {
          "base_uri": "https://localhost:8080/"
        },
        "id": "jdCxi-6LBSSw",
        "outputId": "5ad37055-a774-4a47-fbbd-87d97f452a27"
      },
      "execution_count": 2,
      "outputs": [
        {
          "output_type": "stream",
          "name": "stdout",
          "text": [
            "132971762807856\n",
            "132971762807856\n"
          ]
        }
      ]
    },
    {
      "cell_type": "markdown",
      "source": [
        "Question 5"
      ],
      "metadata": {
        "id": "2cegZ1GKBvuX"
      }
    },
    {
      "cell_type": "code",
      "source": [
        "class Animal:\n",
        "    def speak(self):\n",
        "        print(\"Animal speaks\")\n",
        "\n",
        "class Dog(Animal):\n",
        "    def bark(self):\n",
        "        print(\"Dog barks\")\n",
        "\n",
        "# Dog inherits from Animal and can access its methods\n",
        "my_dog = Dog()\n",
        "my_dog.speak()  # Output: Animal speaks\n",
        "my_dog.bark()   # Output: Dog barks\n"
      ],
      "metadata": {
        "id": "WvurmOhDBy2o"
      },
      "execution_count": null,
      "outputs": []
    }
  ]
}